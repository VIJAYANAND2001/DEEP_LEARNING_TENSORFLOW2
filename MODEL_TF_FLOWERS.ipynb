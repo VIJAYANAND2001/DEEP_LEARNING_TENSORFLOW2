{
 "cells": [
  {
   "cell_type": "code",
   "execution_count": 1,
   "id": "8e5d0da1",
   "metadata": {},
   "outputs": [],
   "source": [
    "import tensorflow  as tf\n",
    "import tensorflow_datasets as tfds\n",
    "import numpy as np  \n",
    "import matplotlib.pyplot as plt\n",
    "from PIL import Image\n",
    "import cv2 as cv\n",
    "from tensorflow import keras"
   ]
  },
  {
   "cell_type": "code",
   "execution_count": 2,
   "id": "6ebc43b5",
   "metadata": {},
   "outputs": [
    {
     "name": "stdout",
     "output_type": "stream",
     "text": [
      "Default GPU Device: /device:GPU:0\n",
      "Device mapping:\n",
      "/job:localhost/replica:0/task:0/device:GPU:0 -> device: 0, name: NVIDIA GeForce GTX 1650 with Max-Q Design, pci bus id: 0000:01:00.0, compute capability: 7.5\n",
      "\n",
      "\n",
      " <tensorflow.python.client.session.Session object at 0x0000014FA60230D0>\n"
     ]
    }
   ],
   "source": [
    "import tensorflow as tf \n",
    "\n",
    "if tf.test.gpu_device_name(): \n",
    "\n",
    "        print('Default GPU Device: {}'.format(tf.test.gpu_device_name()))\n",
    "        ess = tf.compat.v1.Session(config=tf.compat.v1.ConfigProto(log_device_placement=True))\n",
    "        print('\\n',ess)\n",
    "else:\n",
    "\n",
    "        print(\"Please install GPU version of TF\")"
   ]
  },
  {
   "cell_type": "code",
   "execution_count": 3,
   "id": "c15844f0",
   "metadata": {},
   "outputs": [],
   "source": [
    "(train_image,val_image),metadata = tfds.load('tf_flowers',\n",
    "                                                 split=['train[:80%]','train[20%:80%]'],\n",
    "                                                 data_dir=\"./dataset\",\n",
    "                                                 as_supervised=True,\n",
    "                                                 with_info=True)"
   ]
  },
  {
   "cell_type": "code",
   "execution_count": 4,
   "id": "e20e5642",
   "metadata": {},
   "outputs": [
    {
     "data": {
      "text/plain": [
       "['dandelion', 'daisy', 'tulips', 'sunflowers', 'roses']"
      ]
     },
     "execution_count": 4,
     "metadata": {},
     "output_type": "execute_result"
    }
   ],
   "source": [
    "names_flowers = metadata.features['label'].names\n",
    "names_flowers"
   ]
  },
  {
   "cell_type": "markdown",
   "id": "dd637117",
   "metadata": {},
   "source": [
    "# Data Augmentation"
   ]
  },
  {
   "cell_type": "code",
   "execution_count": null,
   "id": "2857ffc0",
   "metadata": {},
   "outputs": [],
   "source": [
    "img_pix = 224\n",
    "data_augmentation = keras.Sequential(\n",
    "  [\n",
    "    #keras.layers.RandomFlip(\"horizontal_and_vertical\"),\n",
    "    keras.layers.RandomRotation(0.1),\n",
    "    #keras.layers.RandomContrast(0.2),\n",
    "    keras.layers.RandomZoom(height_factor=(-0.05, -0.15),width_factor=(-0.05, -0.15)),\n",
    "  ]\n",
    ")\n",
    "    "
   ]
  },
  {
   "cell_type": "code",
   "execution_count": null,
   "id": "85f81765",
   "metadata": {},
   "outputs": [],
   "source": [
    "\n",
    "def format_image(image,label):\n",
    "    image = tf.image.resize(image, (img_pix, img_pix))/255.0\n",
    "    return image, label\n",
    "def format_image_val(image,label):\n",
    "    image = tf.image.resize(image, (img_pix, img_pix))/255.0\n",
    "    return image, label   "
   ]
  },
  {
   "cell_type": "code",
   "execution_count": null,
   "id": "a9cc893d",
   "metadata": {},
   "outputs": [],
   "source": [
    "def aug_image(image,label):\n",
    "    image_batch=image\n",
    "    return image_batch"
   ]
  },
  {
   "cell_type": "markdown",
   "id": "58df6510",
   "metadata": {},
   "source": [
    "# Autotuning"
   ]
  },
  {
   "cell_type": "code",
   "execution_count": null,
   "id": "4868416d",
   "metadata": {},
   "outputs": [],
   "source": [
    "AUTOTUNE=tf.data.AUTOTUNE\n",
    "BATCH_SIZE = 70\n",
    "\n",
    "train_batches = train_image.map(format_image)\n",
    "train_batches = train_batches.map(lambda x, y:(data_augmentation(x ), y),num_parallel_calls=AUTOTUNE)\n",
    "train_batches=train_batches.batch(BATCH_SIZE)\n",
    "\n",
    "\n",
    "validation_batches = val_image.map(format_image_val).batch(BATCH_SIZE)\n",
    "\n",
    "#test_batches=test_image.map(format_image_val).batch(BATCH_SIZE)\n",
    "\n"
   ]
  },
  {
   "cell_type": "code",
   "execution_count": null,
   "id": "2a748fac",
   "metadata": {},
   "outputs": [],
   "source": [
    "\n",
    "train_batches = train_batches.prefetch(buffer_size=AUTOTUNE)\n",
    "validation_batches   = validation_batches.prefetch(buffer_size=AUTOTUNE)\n",
    "#test_batches=test_batches.prefetch(buffer_size=AUTOTUNE)"
   ]
  },
  {
   "cell_type": "markdown",
   "id": "e813b37e",
   "metadata": {},
   "source": [
    "# Callbacks Function"
   ]
  },
  {
   "cell_type": "code",
   "execution_count": null,
   "id": "8ecd92ff",
   "metadata": {},
   "outputs": [],
   "source": [
    "class mycallbacks(keras.callbacks.Callback):\n",
    "    def on_epoch_end(self,epoch,logs={}):\n",
    "        self.epoch=epoch\n",
    "        \n",
    "        if(logs.get('accuracy')>0.95):\n",
    "            print(\"\\nReached 96% of accuracy, so cancelling training! \")\n",
    "            self.model.stop_training=True\n",
    "    def epoch_range(self):\n",
    "        return self.epoch"
   ]
  },
  {
   "cell_type": "code",
   "execution_count": null,
   "id": "57f75361",
   "metadata": {},
   "outputs": [],
   "source": [
    "callbacks=mycallbacks()\n",
    "\n",
    "model=keras.models.Sequential([\n",
    "    \n",
    "    keras.layers.Conv2D(16,(3,3),activation='relu',padding='valid',input_shape=(img_pix,img_pix,3)),\n",
    "    keras.layers.AveragePooling2D(),\n",
    "    keras.layers.Conv2D(32,(3,3),activation='relu'),\n",
    "    keras.layers.MaxPool2D(),\n",
    "    keras.layers.Conv2D(64,(3,3),activation='relu'),\n",
    "    keras.layers.MaxPool2D(),\n",
    "    keras.layers.Conv2D(96,(3,3),activation='relu'),\n",
    "    keras.layers.MaxPool2D(),\n",
    "    keras.layers.Dropout(0.3),\n",
    "    keras.layers.Flatten(),\n",
    "    keras.layers.Dense(1024,activation='relu'),\n",
    "    keras.layers.Dense(512,activation='relu'),\n",
    "    keras.layers.Dense(128,activation='relu'),\n",
    "    keras.layers.Dense(5,activation='softmax')\n",
    "])\n",
    "model.compile(optimizer='adam',loss=keras.losses.SparseCategoricalCrossentropy(),metrics=['accuracy'])\n",
    "accandlos=model.fit(train_batches,epochs=55, validation_data=validation_batches,callbacks=[callbacks])"
   ]
  },
  {
   "cell_type": "code",
   "execution_count": null,
   "id": "2feabb33",
   "metadata": {},
   "outputs": [],
   "source": [
    "#model.evaluate(test_batches)"
   ]
  },
  {
   "cell_type": "code",
   "execution_count": null,
   "id": "4a452f11",
   "metadata": {},
   "outputs": [],
   "source": [
    "accuracy_train=accandlos.history['accuracy']\n",
    "accuracy_validate=accandlos.history['val_accuracy']\n",
    "\n",
    "loss_train=accandlos.history['loss']\n",
    "loss_validate=accandlos.history['val_loss']\n"
   ]
  },
  {
   "cell_type": "code",
   "execution_count": null,
   "id": "d6672bfd",
   "metadata": {},
   "outputs": [],
   "source": [
    "epochs_range=callbacks.epoch_range()\n",
    "print(epochs_range)\n",
    "epochs_range=range(epochs_range+1)"
   ]
  },
  {
   "cell_type": "markdown",
   "id": "bf64e9b5",
   "metadata": {},
   "source": [
    "## Plotting Validation curve"
   ]
  },
  {
   "cell_type": "code",
   "execution_count": null,
   "id": "5201e01c",
   "metadata": {},
   "outputs": [],
   "source": [
    "plt.figure(figsize=(15,4))\n",
    "plt.subplot(1,2,1)\n",
    "plt.plot(epochs_range,accuracy_train,label='TRAINING_ACCURACY')\n",
    "plt.plot(epochs_range,accuracy_validate,label='VALIDATION_ACCURACY')\n",
    "plt.legend(loc='lower right')\n",
    "plt.title(\"Traning and Validation Accuracy\")\n",
    "\n",
    "plt.subplot(1,2,2)\n",
    "plt.plot(epochs_range,loss_train,label='TRAINING_LOSS')\n",
    "plt.plot(epochs_range,loss_validate,label='VALIDATION_LOSS')\n",
    "plt.legend(loc='upper right')\n",
    "plt.title(\"Traning and Validation Loss\")\n",
    "plt.show()"
   ]
  },
  {
   "cell_type": "code",
   "execution_count": null,
   "id": "f25ae31b",
   "metadata": {},
   "outputs": [],
   "source": [
    "model.summary()"
   ]
  },
  {
   "cell_type": "code",
   "execution_count": null,
   "id": "af105041",
   "metadata": {},
   "outputs": [],
   "source": [
    "#!mkdir -p saved_model2\n",
    "model.save('saved_model2/my_model15_-2/12/21')#model saved"
   ]
  },
  {
   "cell_type": "code",
   "execution_count": null,
   "id": "6668dcc5",
   "metadata": {},
   "outputs": [],
   "source": [
    "predict_path='1200px-DandelionFlower.jpg'\n",
    "img= keras.utils.load_img( predict_path, target_size=(img_pix, img_pix))"
   ]
  },
  {
   "cell_type": "code",
   "execution_count": null,
   "id": "d9fe25f2",
   "metadata": {},
   "outputs": [],
   "source": [
    "img"
   ]
  },
  {
   "cell_type": "code",
   "execution_count": null,
   "id": "25a206be",
   "metadata": {},
   "outputs": [],
   "source": [
    "img_arr = keras.utils.img_to_array(img)\n",
    "img_arr = tf.expand_dims(img_arr, 0)"
   ]
  },
  {
   "cell_type": "code",
   "execution_count": null,
   "id": "8dfa6529",
   "metadata": {},
   "outputs": [],
   "source": [
    "img_arr"
   ]
  },
  {
   "cell_type": "code",
   "execution_count": null,
   "id": "9346465e",
   "metadata": {},
   "outputs": [],
   "source": [
    "predictions_neuron = model.predict(img_arr)"
   ]
  },
  {
   "cell_type": "code",
   "execution_count": null,
   "id": "6faa6d19",
   "metadata": {},
   "outputs": [],
   "source": [
    "print(predictions_neuron[0])"
   ]
  },
  {
   "cell_type": "code",
   "execution_count": null,
   "id": "cd9a532c",
   "metadata": {},
   "outputs": [],
   "source": [
    "prediction_score=tf.nn.softmax(predictions_neuron)\n",
    "print(np.max(prediction_score))"
   ]
  },
  {
   "cell_type": "code",
   "execution_count": null,
   "id": "19094428",
   "metadata": {},
   "outputs": [],
   "source": [
    "name_index=np.argmax(predictions_neuron[0])"
   ]
  },
  {
   "cell_type": "code",
   "execution_count": null,
   "id": "48d2a019",
   "metadata": {},
   "outputs": [],
   "source": [
    "print(\"The flower classified is {}\".format(names_flowers[name_index]))"
   ]
  },
  {
   "cell_type": "code",
   "execution_count": null,
   "id": "d350d77c",
   "metadata": {},
   "outputs": [],
   "source": []
  },
  {
   "cell_type": "code",
   "execution_count": null,
   "id": "ba3fec48",
   "metadata": {},
   "outputs": [],
   "source": []
  },
  {
   "cell_type": "code",
   "execution_count": null,
   "id": "7921ca70",
   "metadata": {},
   "outputs": [],
   "source": []
  }
 ],
 "metadata": {
  "kernelspec": {
   "display_name": "TF_gpu",
   "language": "python",
   "name": "tf_gpu"
  },
  "language_info": {
   "codemirror_mode": {
    "name": "ipython",
    "version": 3
   },
   "file_extension": ".py",
   "mimetype": "text/x-python",
   "name": "python",
   "nbconvert_exporter": "python",
   "pygments_lexer": "ipython3",
   "version": "3.9.7"
  }
 },
 "nbformat": 4,
 "nbformat_minor": 5
}
